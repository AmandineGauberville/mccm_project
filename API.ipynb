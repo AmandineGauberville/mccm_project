{
 "cells": [
  {
   "cell_type": "markdown",
   "id": "08a72e90-e57a-440e-aa89-b59b370bbce3",
   "metadata": {},
   "source": [
    "# Requête API sur CEGID Expert - Gestion interne"
   ]
  },
  {
   "cell_type": "code",
   "execution_count": 1,
   "id": "c634ae0d-73be-4ba4-9a65-eea6cd8a8ce5",
   "metadata": {},
   "outputs": [],
   "source": [
    "import json;\n",
    "import requests;\n",
    "from pandas.io.json import json_normalize;"
   ]
  },
  {
   "cell_type": "markdown",
   "id": "e8c6ff7b-fbf0-4770-ab6f-13298fa3c703",
   "metadata": {},
   "source": [
    "### 1. Obtenir des données via Cegid API.\n",
    "\n",
    "1. Générer une clé API : https://cgdprod.service-now.com/$viewer.do?sysparm_stack=no&sysparm_sys_id=488a60a3dbcd305050d87d78f496193a\n",
    "\n",
    "[ base url : https://cegid-expert-webapi-core.cegid.com/SalesAdministration , api version: v1 ]"
   ]
  },
  {
   "cell_type": "code",
   "execution_count": null,
   "id": "31846712-8e3d-4b37-800c-612f38aa09bb",
   "metadata": {},
   "outputs": [],
   "source": [
    "# https://cegid-expert-webapi-core.cegid.com/SalesAdministration/MissionManagementWebService/ReadMissionBasicInformations"
   ]
  },
  {
   "cell_type": "code",
   "execution_count": 2,
   "id": "340aadb3-710e-47ab-94b1-010225ed6b28",
   "metadata": {},
   "outputs": [],
   "source": [
    "response = requests.get('https://cegid-expert-webapi-core.cegid.com/SalesAdministration/MissionManagementWebService/ReadMissionBasicInformations');\n",
    "data = response.json();"
   ]
  },
  {
   "cell_type": "code",
   "execution_count": 3,
   "id": "0300623f-7d98-4507-a67e-2558a14a9c47",
   "metadata": {},
   "outputs": [
    {
     "name": "stderr",
     "output_type": "stream",
     "text": [
      "<ipython-input-3-d883fd921093>:1: FutureWarning: pandas.io.json.json_normalize is deprecated, use pandas.json_normalize instead\n",
      "  forks = json_normalize(data);\n"
     ]
    },
    {
     "data": {
      "text/html": [
       "<div>\n",
       "<style scoped>\n",
       "    .dataframe tbody tr th:only-of-type {\n",
       "        vertical-align: middle;\n",
       "    }\n",
       "\n",
       "    .dataframe tbody tr th {\n",
       "        vertical-align: top;\n",
       "    }\n",
       "\n",
       "    .dataframe thead th {\n",
       "        text-align: right;\n",
       "    }\n",
       "</style>\n",
       "<table border=\"1\" class=\"dataframe\">\n",
       "  <thead>\n",
       "    <tr style=\"text-align: right;\">\n",
       "      <th></th>\n",
       "      <th>message</th>\n",
       "      <th>messageDetail</th>\n",
       "    </tr>\n",
       "  </thead>\n",
       "  <tbody>\n",
       "    <tr>\n",
       "      <th>0</th>\n",
       "      <td>No HTTP resource was found that matches the re...</td>\n",
       "      <td>No action was found on the controller 'Mission...</td>\n",
       "    </tr>\n",
       "  </tbody>\n",
       "</table>\n",
       "</div>"
      ],
      "text/plain": [
       "                                             message  \\\n",
       "0  No HTTP resource was found that matches the re...   \n",
       "\n",
       "                                       messageDetail  \n",
       "0  No action was found on the controller 'Mission...  "
      ]
     },
     "execution_count": 3,
     "metadata": {},
     "output_type": "execute_result"
    }
   ],
   "source": [
    "forks = json_normalize(data);\n",
    "forks.head()"
   ]
  },
  {
   "cell_type": "markdown",
   "id": "366cff79-23f7-4660-83c0-3d62089e24d0",
   "metadata": {},
   "source": [
    "## Obtenir un token CEGID"
   ]
  },
  {
   "cell_type": "code",
   "execution_count": 20,
   "id": "6e52472c-b656-476e-addc-080b3b256637",
   "metadata": {},
   "outputs": [],
   "source": [
    "response = requests.post('https://cegid-expert-webapi-saasadmin.cegid.com/OAuth/Passport/ApiKey', {\"client_id\":\"12345678-1234-1234-1234-123456789012\", 'client_secret':\"a0A0A0Aa0aA0AaAAaaaaaa0AAaaaaaAaAAaaaAAaAA0\"})"
   ]
  },
  {
   "cell_type": "code",
   "execution_count": 21,
   "id": "e0c21295-fb17-4838-b117-16695374ea63",
   "metadata": {},
   "outputs": [
    {
     "data": {
      "text/plain": [
       "<Response [400]>"
      ]
     },
     "execution_count": 21,
     "metadata": {},
     "output_type": "execute_result"
    }
   ],
   "source": [
    "response"
   ]
  },
  {
   "cell_type": "code",
   "execution_count": 23,
   "id": "acecb5b9-5271-44d0-a071-534bf7529e47",
   "metadata": {},
   "outputs": [
    {
     "data": {
      "text/plain": [
       "b'{\"error\":\"Invalid API Key E233\",\"error_description\":\"ApiKey with id \\'12345678-1234-1234-1234-123456789012\\' does not exist.\"}'"
      ]
     },
     "execution_count": 23,
     "metadata": {},
     "output_type": "execute_result"
    }
   ],
   "source": [
    "response.content"
   ]
  },
  {
   "cell_type": "code",
   "execution_count": null,
   "id": "235324bf-d73e-458c-82f1-ad8d68bbb440",
   "metadata": {},
   "outputs": [],
   "source": [
    "#résultat attendu\n",
    "    \"\"\"{ \n",
    "  \"access_token\": \"string\", \n",
    "  \"token_type\": \"string\", \n",
    "  \"expires_in\": \"integer\", \n",
    "  \"refresh_token\": \"string\",\n",
    "  \"state\": \"string\" \n",
    "}\n",
    ")\"\"\""
   ]
  },
  {
   "cell_type": "code",
   "execution_count": null,
   "id": "252c7705-f04a-4d57-8e66-6277bb114300",
   "metadata": {},
   "outputs": [],
   "source": [
    "#langage json : paramètres à ajouter pour obtention du token\n",
    "\n",
    "let requestBody = {\n",
    "    grant_type : \"client_credentials\",\n",
    "    client_id : \"12345678-1234-1234-1234-123456789012\",\n",
    "    client_secret : \"a0A0A0Aa0aA0AaAAaaaaaa0AAaaaaaAaAAaaaAAaAA0\",\n",
    "    consumer_id : null,\n",
    "    consumer_secret : null,\n",
    "    vendor_name : \"vendor\",\n",
    "    application_name : \"appli\",\n",
    "    application_version : \"V1\"\n",
    "};\n",
    "let queryParameters = \"multiserver=1&preprod=0&restrictivedossier=test&state=example\";\n",
    "let queryUrl = \"https://cegid-expert-webapi-saasadmin.cegid.com/OAuth/Passport/ApiKey\";\n",
    "let uri = queryUrl + \"?\" + queryParameters;\n",
    "$.ajax({\n",
    "    type: \"POST\",\n",
    "    url: uri,\n",
    "    data: JSON.stringify(requestBody),\n",
    "    contentType: \"application/json; charset=utf-8\"\n",
    "}).done(function (result) {\n",
    "    $('#message').text(\"Success: \" + JSON.stringify(result));\n",
    "}).fail(function (error) {\n",
    "    $('#message').text(\"Erreur: \" + JSON.stringify(error));                        \n",
    "});"
   ]
  }
 ],
 "metadata": {
  "kernelspec": {
   "display_name": "Python 3",
   "language": "python",
   "name": "python3"
  },
  "language_info": {
   "codemirror_mode": {
    "name": "ipython",
    "version": 3
   },
   "file_extension": ".py",
   "mimetype": "text/x-python",
   "name": "python",
   "nbconvert_exporter": "python",
   "pygments_lexer": "ipython3",
   "version": "3.8.8"
  }
 },
 "nbformat": 4,
 "nbformat_minor": 5
}
